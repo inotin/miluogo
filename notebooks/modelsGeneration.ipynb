{
 "cells": [
  {
   "cell_type": "markdown",
   "metadata": {},
   "source": [
    "# Models"
   ]
  },
  {
   "cell_type": "code",
   "execution_count": 1,
   "metadata": {},
   "outputs": [],
   "source": [
    "import pandas as pd\n",
    "from sklearn.linear_model import LinearRegression\n",
    "from sklearn.preprocessing import PolynomialFeatures\n",
    "\n",
    "import numpy as np\n",
    "import sklearn\n",
    "from sklearn.model_selection import train_test_split\n",
    "from sklearn.metrics import mean_squared_error, mean_absolute_error\n",
    "\n",
    "import pickle\n",
    "\n",
    "from sklearn.ensemble import RandomForestRegressor\n",
    "from sklearn.compose import TransformedTargetRegressor\n",
    "from sklearn.model_selection import cross_val_score"
   ]
  },
  {
   "cell_type": "markdown",
   "metadata": {},
   "source": [
    "### Model for normv(lt, lg)"
   ]
  },
  {
   "cell_type": "code",
   "execution_count": 2,
   "metadata": {},
   "outputs": [
    {
     "data": {
      "text/plain": [
       "id_amat      int64\n",
       "valore     float64\n",
       "normv      float64\n",
       "name        object\n",
       "coords      object\n",
       "lt         float64\n",
       "lg         float64\n",
       "dtype: object"
      ]
     },
     "execution_count": 2,
     "metadata": {},
     "output_type": "execute_result"
    }
   ],
   "source": [
    "dfAirScaledMedianStations=pd.read_csv(\"5_dfAirScaledMedianStations.csv\") #generated in dataGeneration notebook\n",
    "dfAirScaledMedianStations.dtypes"
   ]
  },
  {
   "cell_type": "code",
   "execution_count": 3,
   "metadata": {},
   "outputs": [
    {
     "data": {
      "text/html": [
       "<div>\n",
       "<style scoped>\n",
       "    .dataframe tbody tr th:only-of-type {\n",
       "        vertical-align: middle;\n",
       "    }\n",
       "\n",
       "    .dataframe tbody tr th {\n",
       "        vertical-align: top;\n",
       "    }\n",
       "\n",
       "    .dataframe thead th {\n",
       "        text-align: right;\n",
       "    }\n",
       "</style>\n",
       "<table border=\"1\" class=\"dataframe\">\n",
       "  <thead>\n",
       "    <tr style=\"text-align: right;\">\n",
       "      <th></th>\n",
       "      <th>id_amat</th>\n",
       "      <th>valore</th>\n",
       "      <th>normv</th>\n",
       "      <th>name</th>\n",
       "      <th>coords</th>\n",
       "      <th>lt</th>\n",
       "      <th>lg</th>\n",
       "    </tr>\n",
       "  </thead>\n",
       "  <tbody>\n",
       "    <tr>\n",
       "      <th>0</th>\n",
       "      <td>2</td>\n",
       "      <td>12.0</td>\n",
       "      <td>0.150602</td>\n",
       "      <td>via Pascal *</td>\n",
       "      <td>[45.4740982055664, 9.23478031158447]</td>\n",
       "      <td>45.474098</td>\n",
       "      <td>9.23478</td>\n",
       "    </tr>\n",
       "    <tr>\n",
       "      <th>1</th>\n",
       "      <td>3</td>\n",
       "      <td>2.2</td>\n",
       "      <td>0.281250</td>\n",
       "      <td>viale Liguria</td>\n",
       "      <td>[45.4441986083984, 9.16944026947021]</td>\n",
       "      <td>45.444199</td>\n",
       "      <td>9.16944</td>\n",
       "    </tr>\n",
       "    <tr>\n",
       "      <th>2</th>\n",
       "      <td>4</td>\n",
       "      <td>10.0</td>\n",
       "      <td>0.233645</td>\n",
       "      <td>viale Marche</td>\n",
       "      <td>[45.4962997436523, 9.19083976745605]</td>\n",
       "      <td>45.496300</td>\n",
       "      <td>9.19084</td>\n",
       "    </tr>\n",
       "    <tr>\n",
       "      <th>3</th>\n",
       "      <td>6</td>\n",
       "      <td>14.0</td>\n",
       "      <td>0.200935</td>\n",
       "      <td>via Senato *</td>\n",
       "      <td>[45.4705009460449, 9.19791984558105]</td>\n",
       "      <td>45.470501</td>\n",
       "      <td>9.19792</td>\n",
       "    </tr>\n",
       "    <tr>\n",
       "      <th>4</th>\n",
       "      <td>7</td>\n",
       "      <td>52.0</td>\n",
       "      <td>0.261111</td>\n",
       "      <td>Verziere</td>\n",
       "      <td>[45.4635009765625, 9.19534015655518]</td>\n",
       "      <td>45.463501</td>\n",
       "      <td>9.19534</td>\n",
       "    </tr>\n",
       "  </tbody>\n",
       "</table>\n",
       "</div>"
      ],
      "text/plain": [
       "   id_amat  valore     normv           name  \\\n",
       "0        2    12.0  0.150602   via Pascal *   \n",
       "1        3     2.2  0.281250  viale Liguria   \n",
       "2        4    10.0  0.233645   viale Marche   \n",
       "3        6    14.0  0.200935   via Senato *   \n",
       "4        7    52.0  0.261111       Verziere   \n",
       "\n",
       "                                 coords         lt       lg  \n",
       "0  [45.4740982055664, 9.23478031158447]  45.474098  9.23478  \n",
       "1  [45.4441986083984, 9.16944026947021]  45.444199  9.16944  \n",
       "2  [45.4962997436523, 9.19083976745605]  45.496300  9.19084  \n",
       "3  [45.4705009460449, 9.19791984558105]  45.470501  9.19792  \n",
       "4  [45.4635009765625, 9.19534015655518]  45.463501  9.19534  "
      ]
     },
     "execution_count": 3,
     "metadata": {},
     "output_type": "execute_result"
    }
   ],
   "source": [
    "dfAirScaledMedianStations"
   ]
  },
  {
   "cell_type": "code",
   "execution_count": 4,
   "metadata": {},
   "outputs": [
    {
     "name": "stdout",
     "output_type": "stream",
     "text": [
      "[[ 1.25489776e-01 -6.91488747e+00  1.41593159e+01 -3.00570831e+02\n",
      "   2.89897300e+02  1.31052271e+02  4.69930914e+00 -3.96365662e+00\n",
      "  -1.37872459e+01  1.62454833e+01]]\n",
      "[163279.21542147]\n"
     ]
    }
   ],
   "source": [
    "pf = PolynomialFeatures(degree=3)\n",
    "X = pf.fit_transform(dfAirScaledMedianStations[[\"lt\",\"lg\"]])\n",
    "\n",
    "y = dfAirScaledMedianStations[[\"normv\"]]\n",
    "normv_lt_lg_LinearRegression = LinearRegression()\n",
    "normv_lt_lg_LinearRegression.fit(X,y)\n",
    "\n",
    "print(normv_lt_lg_LinearRegression.coef_)\n",
    "print(normv_lt_lg_LinearRegression.intercept_)"
   ]
  },
  {
   "cell_type": "code",
   "execution_count": 5,
   "metadata": {},
   "outputs": [],
   "source": [
    "def predictContamination(lt, lg):\n",
    "    \"\"\"\n",
    "    The function returns contamination values based on location\n",
    "    Input:\n",
    "    lt (float): latitude\n",
    "    lg (float): longitude\n",
    "    \n",
    "    Output:\n",
    "    Scaled contamaination value\n",
    "    \"\"\"\n",
    "    return normv_lt_lg_LinearRegression.predict(pf.fit_transform([np.array([lt,lg])]))[0][0]"
   ]
  },
  {
   "cell_type": "markdown",
   "metadata": {},
   "source": [
    "#### Saving the model"
   ]
  },
  {
   "cell_type": "code",
   "execution_count": 6,
   "metadata": {},
   "outputs": [],
   "source": [
    "pkl_filename = \"models/normv_lt_lg_LinearRegression.pkl\"\n",
    "with open(pkl_filename, 'wb') as file:\n",
    "    pickle.dump(normv_lt_lg_LinearRegression, file)"
   ]
  },
  {
   "cell_type": "markdown",
   "metadata": {},
   "source": [
    "### Model for price([type], lt, lg, totalScore)"
   ]
  },
  {
   "cell_type": "code",
   "execution_count": 7,
   "metadata": {},
   "outputs": [
    {
     "data": {
      "text/plain": [
       "Appartamento      int64\n",
       "Attico            int64\n",
       "Bilocale          int64\n",
       "Loft              int64\n",
       "Mansarda          int64\n",
       "Monolocale        int64\n",
       "Open              int64\n",
       "Quadrilocale      int64\n",
       "Terratetto        int64\n",
       "Trilocale         int64\n",
       "Villa             int64\n",
       "lt              float64\n",
       "lg              float64\n",
       "totalScore      float64\n",
       "price             int64\n",
       "dtype: object"
      ]
     },
     "execution_count": 7,
     "metadata": {},
     "output_type": "execute_result"
    }
   ],
   "source": [
    "dfPredict=pd.read_csv(\"dfPredict.csv\") #generated in dataGeneration notebook\n",
    "dfPredict.dtypes"
   ]
  },
  {
   "cell_type": "code",
   "execution_count": 8,
   "metadata": {},
   "outputs": [
    {
     "data": {
      "text/html": [
       "<div>\n",
       "<style scoped>\n",
       "    .dataframe tbody tr th:only-of-type {\n",
       "        vertical-align: middle;\n",
       "    }\n",
       "\n",
       "    .dataframe tbody tr th {\n",
       "        vertical-align: top;\n",
       "    }\n",
       "\n",
       "    .dataframe thead th {\n",
       "        text-align: right;\n",
       "    }\n",
       "</style>\n",
       "<table border=\"1\" class=\"dataframe\">\n",
       "  <thead>\n",
       "    <tr style=\"text-align: right;\">\n",
       "      <th></th>\n",
       "      <th>Appartamento</th>\n",
       "      <th>Attico</th>\n",
       "      <th>Bilocale</th>\n",
       "      <th>Loft</th>\n",
       "      <th>Mansarda</th>\n",
       "      <th>Monolocale</th>\n",
       "      <th>Open</th>\n",
       "      <th>Quadrilocale</th>\n",
       "      <th>Terratetto</th>\n",
       "      <th>Trilocale</th>\n",
       "      <th>Villa</th>\n",
       "      <th>lt</th>\n",
       "      <th>lg</th>\n",
       "      <th>totalScore</th>\n",
       "      <th>price</th>\n",
       "    </tr>\n",
       "  </thead>\n",
       "  <tbody>\n",
       "    <tr>\n",
       "      <th>87</th>\n",
       "      <td>0</td>\n",
       "      <td>0</td>\n",
       "      <td>1</td>\n",
       "      <td>0</td>\n",
       "      <td>0</td>\n",
       "      <td>0</td>\n",
       "      <td>0</td>\n",
       "      <td>0</td>\n",
       "      <td>0</td>\n",
       "      <td>0</td>\n",
       "      <td>0</td>\n",
       "      <td>45.440737</td>\n",
       "      <td>9.145208</td>\n",
       "      <td>2.115507</td>\n",
       "      <td>800</td>\n",
       "    </tr>\n",
       "    <tr>\n",
       "      <th>291</th>\n",
       "      <td>0</td>\n",
       "      <td>0</td>\n",
       "      <td>1</td>\n",
       "      <td>0</td>\n",
       "      <td>0</td>\n",
       "      <td>0</td>\n",
       "      <td>0</td>\n",
       "      <td>0</td>\n",
       "      <td>0</td>\n",
       "      <td>0</td>\n",
       "      <td>0</td>\n",
       "      <td>45.512982</td>\n",
       "      <td>9.219899</td>\n",
       "      <td>0.840491</td>\n",
       "      <td>700</td>\n",
       "    </tr>\n",
       "    <tr>\n",
       "      <th>827</th>\n",
       "      <td>0</td>\n",
       "      <td>0</td>\n",
       "      <td>1</td>\n",
       "      <td>0</td>\n",
       "      <td>0</td>\n",
       "      <td>0</td>\n",
       "      <td>0</td>\n",
       "      <td>0</td>\n",
       "      <td>0</td>\n",
       "      <td>0</td>\n",
       "      <td>0</td>\n",
       "      <td>45.462329</td>\n",
       "      <td>9.175612</td>\n",
       "      <td>1.365648</td>\n",
       "      <td>1450</td>\n",
       "    </tr>\n",
       "    <tr>\n",
       "      <th>557</th>\n",
       "      <td>0</td>\n",
       "      <td>0</td>\n",
       "      <td>1</td>\n",
       "      <td>0</td>\n",
       "      <td>0</td>\n",
       "      <td>0</td>\n",
       "      <td>0</td>\n",
       "      <td>0</td>\n",
       "      <td>0</td>\n",
       "      <td>0</td>\n",
       "      <td>0</td>\n",
       "      <td>45.481813</td>\n",
       "      <td>9.164278</td>\n",
       "      <td>2.498004</td>\n",
       "      <td>1800</td>\n",
       "    </tr>\n",
       "    <tr>\n",
       "      <th>111</th>\n",
       "      <td>0</td>\n",
       "      <td>0</td>\n",
       "      <td>0</td>\n",
       "      <td>0</td>\n",
       "      <td>0</td>\n",
       "      <td>0</td>\n",
       "      <td>0</td>\n",
       "      <td>0</td>\n",
       "      <td>0</td>\n",
       "      <td>1</td>\n",
       "      <td>0</td>\n",
       "      <td>45.478178</td>\n",
       "      <td>9.132666</td>\n",
       "      <td>2.840327</td>\n",
       "      <td>2165</td>\n",
       "    </tr>\n",
       "  </tbody>\n",
       "</table>\n",
       "</div>"
      ],
      "text/plain": [
       "     Appartamento  Attico  Bilocale  Loft  Mansarda  Monolocale  Open  \\\n",
       "87              0       0         1     0         0           0     0   \n",
       "291             0       0         1     0         0           0     0   \n",
       "827             0       0         1     0         0           0     0   \n",
       "557             0       0         1     0         0           0     0   \n",
       "111             0       0         0     0         0           0     0   \n",
       "\n",
       "     Quadrilocale  Terratetto  Trilocale  Villa         lt        lg  \\\n",
       "87              0           0          0      0  45.440737  9.145208   \n",
       "291             0           0          0      0  45.512982  9.219899   \n",
       "827             0           0          0      0  45.462329  9.175612   \n",
       "557             0           0          0      0  45.481813  9.164278   \n",
       "111             0           0          1      0  45.478178  9.132666   \n",
       "\n",
       "     totalScore  price  \n",
       "87     2.115507    800  \n",
       "291    0.840491    700  \n",
       "827    1.365648   1450  \n",
       "557    2.498004   1800  \n",
       "111    2.840327   2165  "
      ]
     },
     "execution_count": 8,
     "metadata": {},
     "output_type": "execute_result"
    }
   ],
   "source": [
    "dfPredict.sample(5)"
   ]
  },
  {
   "cell_type": "code",
   "execution_count": 9,
   "metadata": {},
   "outputs": [],
   "source": [
    "X_train, X_test, y_train, y_test = train_test_split(dfPredict[dfPredict.columns[:-1]], \n",
    "                                                    dfPredict[dfPredict.columns[-1:]], \n",
    "                                                    test_size=0.2)\n"
   ]
  },
  {
   "cell_type": "code",
   "execution_count": 10,
   "metadata": {},
   "outputs": [
    {
     "data": {
      "text/plain": [
       "<matplotlib.axes._subplots.AxesSubplot at 0x7fd6e9932490>"
      ]
     },
     "execution_count": 10,
     "metadata": {},
     "output_type": "execute_result"
    },
    {
     "data": {
      "image/png": "[encoded data removed]",
      "text/plain": [
       "<Figure size 432x288 with 1 Axes>"
      ]
     },
     "metadata": {
      "needs_background": "light"
     },
     "output_type": "display_data"
    }
   ],
   "source": [
    "dfPredict[\"price\"].hist()"
   ]
  },
  {
   "cell_type": "markdown",
   "metadata": {},
   "source": [
    "I used TransformedTargetRegressor with log transformation because price distribution is slightly scewed. After the transofrmation the distribution will look more normal which will lead to a better model."
   ]
  },
  {
   "cell_type": "code",
   "execution_count": 11,
   "metadata": {},
   "outputs": [
    {
     "data": {
      "text/plain": [
       "<matplotlib.axes._subplots.AxesSubplot at 0x7fd709330d50>"
      ]
     },
     "execution_count": 11,
     "metadata": {},
     "output_type": "execute_result"
    },
    {
     "data": {
      "image/png": "[encoded data removed]",
      "text/plain": [
       "<Figure size 432x288 with 1 Axes>"
      ]
     },
     "metadata": {
      "needs_background": "light"
     },
     "output_type": "display_data"
    }
   ],
   "source": [
    "np.log(dfPredict[\"price\"]).hist()"
   ]
  },
  {
   "cell_type": "code",
   "execution_count": 12,
   "metadata": {},
   "outputs": [
    {
     "data": {
      "text/plain": [
       "TransformedTargetRegressor(check_inverse=True, func=<ufunc 'log1p'>,\n",
       "                           inverse_func=<ufunc 'expm1'>,\n",
       "                           regressor=RandomForestRegressor(bootstrap=True,\n",
       "                                                           ccp_alpha=0.0,\n",
       "                                                           criterion='mse',\n",
       "                                                           max_depth=None,\n",
       "                                                           max_features='auto',\n",
       "                                                           max_leaf_nodes=None,\n",
       "                                                           max_samples=None,\n",
       "                                                           min_impurity_decrease=0.0,\n",
       "                                                           min_impurity_split=None,\n",
       "                                                           min_samples_leaf=1,\n",
       "                                                           min_samples_split=2,\n",
       "                                                           min_weight_fraction_leaf=0.0,\n",
       "                                                           n_estimators=100,\n",
       "                                                           n_jobs=None,\n",
       "                                                           oob_score=False,\n",
       "                                                           random_state=None,\n",
       "                                                           verbose=0,\n",
       "                                                           warm_start=False),\n",
       "                           transformer=None)"
      ]
     },
     "execution_count": 12,
     "metadata": {},
     "output_type": "execute_result"
    }
   ],
   "source": [
    "from sklearn.ensemble import RandomForestRegressor\n",
    "from sklearn.compose import TransformedTargetRegressor\n",
    "from sklearn.model_selection import cross_val_score\n",
    "price_type_lt_lg_totalScore_RandomForestRegressor = RandomForestRegressor(max_samples=400)\n",
    "price_type_lt_lg_totalScore_RandomForestRegressor = TransformedTargetRegressor(regressor=RandomForestRegressor(),func=np.log1p,inverse_func=np.expm1)\n",
    "price_type_lt_lg_totalScore_RandomForestRegressor.fit(X_train,y_train)"
   ]
  },
  {
   "cell_type": "code",
   "execution_count": 13,
   "metadata": {},
   "outputs": [
    {
     "data": {
      "text/plain": [
       "284.2152541666504"
      ]
     },
     "execution_count": 13,
     "metadata": {},
     "output_type": "execute_result"
    }
   ],
   "source": [
    "np.mean(-1*cross_val_score(price_type_lt_lg_totalScore_RandomForestRegressor, X_train, y_train, cv =5, scoring='neg_mean_squared_error')) ** 0.5"
   ]
  },
  {
   "cell_type": "code",
   "execution_count": 14,
   "metadata": {},
   "outputs": [
    {
     "data": {
      "text/plain": [
       "150.979166268861"
      ]
     },
     "execution_count": 14,
     "metadata": {},
     "output_type": "execute_result"
    }
   ],
   "source": [
    "np.mean(-cross_val_score(price_type_lt_lg_totalScore_RandomForestRegressor, X_train, y_train, cv =5, scoring='neg_mean_absolute_error'))"
   ]
  },
  {
   "cell_type": "markdown",
   "metadata": {},
   "source": [
    "#### Checking metrics for test data"
   ]
  },
  {
   "cell_type": "code",
   "execution_count": 15,
   "metadata": {},
   "outputs": [],
   "source": [
    "y_pred = price_type_lt_lg_totalScore_RandomForestRegressor.predict(X_test)"
   ]
  },
  {
   "cell_type": "code",
   "execution_count": 16,
   "metadata": {},
   "outputs": [
    {
     "data": {
      "text/plain": [
       "311.26302391902146"
      ]
     },
     "execution_count": 16,
     "metadata": {},
     "output_type": "execute_result"
    }
   ],
   "source": [
    "mean_squared_error(y_test, y_pred) ** 0.5"
   ]
  },
  {
   "cell_type": "code",
   "execution_count": 17,
   "metadata": {},
   "outputs": [
    {
     "data": {
      "text/plain": [
       "151.396594108486"
      ]
     },
     "execution_count": 17,
     "metadata": {},
     "output_type": "execute_result"
    }
   ],
   "source": [
    "mean_absolute_error(y_test, y_pred)"
   ]
  },
  {
   "cell_type": "markdown",
   "metadata": {},
   "source": [
    "#### Checking feature importances"
   ]
  },
  {
   "cell_type": "code",
   "execution_count": 18,
   "metadata": {},
   "outputs": [
    {
     "data": {
      "text/plain": [
       "{'Terratetto': 0.0,\n",
       " 'Mansarda': 4.5680193657163415e-05,\n",
       " 'Open': 0.0001216564414405989,\n",
       " 'Villa': 0.00030201368360154897,\n",
       " 'Loft': 0.001275824058530963,\n",
       " 'Quadrilocale': 0.003749564598682721,\n",
       " 'Trilocale': 0.004575607450294907,\n",
       " 'Attico': 0.004697179995120333,\n",
       " 'Appartamento': 0.008137056313828753,\n",
       " 'Bilocale': 0.03772357591687659,\n",
       " 'Monolocale': 0.039647762413844316,\n",
       " 'lg': 0.10881395256572406,\n",
       " 'lt': 0.25187154492671976,\n",
       " 'totalScore': 0.5390385814416784}"
      ]
     },
     "execution_count": 18,
     "metadata": {},
     "output_type": "execute_result"
    }
   ],
   "source": [
    "from collections import defaultdict\n",
    "\n",
    "d = defaultdict()\n",
    "for f, i in zip(X_test.columns,price_type_lt_lg_totalScore_RandomForestRegressor.regressor_.feature_importances_):\n",
    "    d[f] = i\n",
    "{k: v for k, v in sorted(d.items(), key=lambda item: item[1])}"
   ]
  },
  {
   "cell_type": "markdown",
   "metadata": {},
   "source": [
    "#### Saving the model"
   ]
  },
  {
   "cell_type": "code",
   "execution_count": 19,
   "metadata": {},
   "outputs": [],
   "source": [
    "pkl_filename = \"models/price_type_lt_lg_totalScore_RandomForestRegressor.pkl\"\n",
    "with open(pkl_filename, 'wb') as file:\n",
    "    pickle.dump(price_type_lt_lg_totalScore_RandomForestRegressor, file)"
   ]
  },
  {
   "cell_type": "markdown",
   "metadata": {},
   "source": [
    "### Model for totalScore(lt, lg)"
   ]
  },
  {
   "cell_type": "code",
   "execution_count": 20,
   "metadata": {},
   "outputs": [
    {
     "name": "stderr",
     "output_type": "stream",
     "text": [
      "/opt/anaconda3/lib/python3.7/site-packages/ipykernel_launcher.py:8: DataConversionWarning: A column-vector y was passed when a 1d array was expected. Please change the shape of y to (n_samples,), for example using ravel().\n",
      "  \n"
     ]
    },
    {
     "data": {
      "text/plain": [
       "RandomForestRegressor(bootstrap=True, ccp_alpha=0.0, criterion='mse',\n",
       "                      max_depth=None, max_features='auto', max_leaf_nodes=None,\n",
       "                      max_samples=None, min_impurity_decrease=0.0,\n",
       "                      min_impurity_split=None, min_samples_leaf=1,\n",
       "                      min_samples_split=2, min_weight_fraction_leaf=0.0,\n",
       "                      n_estimators=100, n_jobs=None, oob_score=False,\n",
       "                      random_state=None, verbose=0, warm_start=False)"
      ]
     },
     "execution_count": 20,
     "metadata": {},
     "output_type": "execute_result"
    }
   ],
   "source": [
    "# Filtering initial data\n",
    "X_train2 = X_train[[\"lt\",\"lg\"]]\n",
    "y_train2 = X_train[[\"totalScore\"]]\n",
    "X_test2 = X_test[[\"lt\",\"lg\"]]\n",
    "y_test2 = X_test[[\"totalScore\"]]\n",
    "\n",
    "totalScore_lt_lg_RandomForestRegressor = RandomForestRegressor()\n",
    "totalScore_lt_lg_RandomForestRegressor.fit(X_train2,y_train2)"
   ]
  },
  {
   "cell_type": "code",
   "execution_count": 21,
   "metadata": {},
   "outputs": [
    {
     "data": {
      "text/plain": [
       "<matplotlib.axes._subplots.AxesSubplot at 0x7fd6c8751c50>"
      ]
     },
     "execution_count": 21,
     "metadata": {},
     "output_type": "execute_result"
    },
    {
     "data": {
      "image/png": "[encoded data removed]",
      "text/plain": [
       "<Figure size 432x288 with 1 Axes>"
      ]
     },
     "metadata": {
      "needs_background": "light"
     },
     "output_type": "display_data"
    }
   ],
   "source": [
    "dfPredict[\"totalScore\"].hist()"
   ]
  },
  {
   "cell_type": "markdown",
   "metadata": {},
   "source": [
    "#### RMSE"
   ]
  },
  {
   "cell_type": "code",
   "execution_count": 22,
   "metadata": {},
   "outputs": [
    {
     "data": {
      "text/plain": [
       "0.9698332194816196"
      ]
     },
     "execution_count": 22,
     "metadata": {},
     "output_type": "execute_result"
    }
   ],
   "source": [
    "np.mean(-1*cross_val_score(totalScore_lt_lg_RandomForestRegressor, X_train2, y_train2.values.ravel(), cv =5, scoring='neg_mean_squared_error')) ** 0.5"
   ]
  },
  {
   "cell_type": "markdown",
   "metadata": {},
   "source": [
    "#### MAE"
   ]
  },
  {
   "cell_type": "code",
   "execution_count": 23,
   "metadata": {},
   "outputs": [
    {
     "data": {
      "text/plain": [
       "0.6681766432867808"
      ]
     },
     "execution_count": 23,
     "metadata": {},
     "output_type": "execute_result"
    }
   ],
   "source": [
    "np.mean(-cross_val_score(totalScore_lt_lg_RandomForestRegressor, X_train2, y_train2.values.ravel(), cv =5, scoring='neg_mean_absolute_error'))"
   ]
  },
  {
   "cell_type": "markdown",
   "metadata": {},
   "source": [
    "#### Saving the model"
   ]
  },
  {
   "cell_type": "code",
   "execution_count": 24,
   "metadata": {},
   "outputs": [],
   "source": [
    "pkl_filename = \"models/totalScore_lt_lg_RandomForestRegressor.pkl\"\n",
    "with open(pkl_filename, 'wb') as file:\n",
    "    pickle.dump(totalScore_lt_lg_RandomForestRegressor, file)"
   ]
  },
  {
   "cell_type": "code",
   "execution_count": null,
   "metadata": {},
   "outputs": [],
   "source": []
  }
 ],
 "metadata": {
  "kernelspec": {
   "display_name": "Python 3",
   "language": "python",
   "name": "python3"
  },
  "language_info": {
   "codemirror_mode": {
    "name": "ipython",
    "version": 3
   },
   "file_extension": ".py",
   "mimetype": "text/x-python",
   "name": "python",
   "nbconvert_exporter": "python",
   "pygments_lexer": "ipython3",
   "version": "3.8.10"
  }
 },
 "nbformat": 4,
 "nbformat_minor": 4
}
